{
  "nbformat": 4,
  "nbformat_minor": 0,
  "metadata": {
    "colab": {
      "name": "ML_Dicoding 2 (Advance).ipynb",
      "provenance": [],
      "collapsed_sections": []
    },
    "kernelspec": {
      "name": "python3",
      "display_name": "Python 3"
    },
    "language_info": {
      "name": "python"
    }
  },
  "cells": [
    {
      "cell_type": "markdown",
      "metadata": {
        "id": "z0pIef5swd5F"
      },
      "source": [
        "### **Nama: Muhammad Amanda**\n",
        "### **Username: muh_amanda** \n",
        "### **Kota: Kota Jakarta Timur, DKI Jakarta**\n",
        "### *Waktu bergabung pada 12 May 2020*\n",
        "\n",
        "# Proyek Kedua : Membuat Model Machine Learning dengan Data Time Series "
      ]
    },
    {
      "cell_type": "code",
      "metadata": {
        "colab": {
          "base_uri": "https://localhost:8080/"
        },
        "id": "sR5RqNJmwcFR",
        "outputId": "8408f9a3-c950-4f2b-9be6-11edfdfc2d51"
      },
      "source": [
        "from google.colab import drive\n",
        "drive.mount('/content/drive')"
      ],
      "execution_count": 3,
      "outputs": [
        {
          "output_type": "stream",
          "text": [
            "Mounted at /content/drive\n"
          ],
          "name": "stdout"
        }
      ]
    },
    {
      "cell_type": "code",
      "metadata": {
        "id": "H04DxQefwoXM"
      },
      "source": [
        "import os\n",
        "os.environ['KAGGLE_CONFIG_DIR'] = \"/content\""
      ],
      "execution_count": 4,
      "outputs": []
    },
    {
      "cell_type": "code",
      "metadata": {
        "colab": {
          "base_uri": "https://localhost:8080/"
        },
        "id": "4KQyMPAgwrXM",
        "outputId": "cf1da0ba-a84a-40f3-88f4-c6953b06032c"
      },
      "source": [
        "%cd /content"
      ],
      "execution_count": 5,
      "outputs": [
        {
          "output_type": "stream",
          "text": [
            "/content\n"
          ],
          "name": "stdout"
        }
      ]
    },
    {
      "cell_type": "code",
      "metadata": {
        "colab": {
          "base_uri": "https://localhost:8080/"
        },
        "id": "94siRkBJwtdE",
        "outputId": "4f006579-093e-453a-f046-3cd4b9d24e24"
      },
      "source": [
        "!kaggle datasets download -d sumanthvrao/daily-climate-time-series-data"
      ],
      "execution_count": 7,
      "outputs": [
        {
          "output_type": "stream",
          "text": [
            "Warning: Your Kaggle API key is readable by other users on this system! To fix this, you can run 'chmod 600 /content/kaggle.json'\n",
            "Downloading daily-climate-time-series-data.zip to /content\n",
            "  0% 0.00/22.0k [00:00<?, ?B/s]\n",
            "100% 22.0k/22.0k [00:00<00:00, 32.7MB/s]\n"
          ],
          "name": "stdout"
        }
      ]
    },
    {
      "cell_type": "code",
      "metadata": {
        "colab": {
          "base_uri": "https://localhost:8080/"
        },
        "id": "A18iTBuDww8N",
        "outputId": "a9735b10-7648-4631-8f19-31fd98438bae"
      },
      "source": [
        "!ls"
      ],
      "execution_count": 8,
      "outputs": [
        {
          "output_type": "stream",
          "text": [
            "daily-climate-time-series-data.zip  drive  kaggle.json\tsample_data\n"
          ],
          "name": "stdout"
        }
      ]
    },
    {
      "cell_type": "code",
      "metadata": {
        "colab": {
          "base_uri": "https://localhost:8080/"
        },
        "id": "0-Os7Nvswz_c",
        "outputId": "925d4084-e843-40de-e830-08ff2c010c66"
      },
      "source": [
        "#unzipping the zip files and deleting the zip files\n",
        "!unzip \\*.zip  && rm *.zip"
      ],
      "execution_count": 9,
      "outputs": [
        {
          "output_type": "stream",
          "text": [
            "Archive:  daily-climate-time-series-data.zip\n",
            "  inflating: DailyDelhiClimateTest.csv  \n",
            "  inflating: DailyDelhiClimateTrain.csv  \n"
          ],
          "name": "stdout"
        }
      ]
    },
    {
      "cell_type": "markdown",
      "metadata": {
        "id": "i0j4xIn3w56U"
      },
      "source": [
        "# **Import library**"
      ]
    },
    {
      "cell_type": "code",
      "metadata": {
        "id": "EmVAndtHw0R8"
      },
      "source": [
        "import numpy as np\n",
        "import pandas as pd\n",
        "from keras.layers import Dense, LSTM\n",
        "import matplotlib.pyplot as plt\n",
        "import tensorflow as tf"
      ],
      "execution_count": 10,
      "outputs": []
    },
    {
      "cell_type": "markdown",
      "metadata": {
        "id": "q9VFboChw_RU"
      },
      "source": [
        "# **Load dataset**\n",
        "\n",
        "* Data: [Daily Climate time series data](https://www.kaggle.com/sumanthvrao/daily-climate-time-series-data?select=DailyDelhiClimateTrain.csv)\n",
        "* 1600 observation\n",
        "* "
      ]
    },
    {
      "cell_type": "code",
      "metadata": {
        "colab": {
          "base_uri": "https://localhost:8080/",
          "height": 450
        },
        "id": "kc2qaj-Qw4Ak",
        "outputId": "a8992d8a-ecf5-42c1-da20-a4eba2802c16"
      },
      "source": [
        "df = pd.read_csv('DailyDelhiClimateTrain.csv')\n",
        "data_train = df[[\"date\",\"wind_speed\"]]\n",
        "data_train.info()\n",
        "data_train.head()\n",
        "df.describe()"
      ],
      "execution_count": 48,
      "outputs": [
        {
          "output_type": "stream",
          "text": [
            "<class 'pandas.core.frame.DataFrame'>\n",
            "RangeIndex: 1462 entries, 0 to 1461\n",
            "Data columns (total 2 columns):\n",
            " #   Column      Non-Null Count  Dtype  \n",
            "---  ------      --------------  -----  \n",
            " 0   date        1462 non-null   object \n",
            " 1   wind_speed  1462 non-null   float64\n",
            "dtypes: float64(1), object(1)\n",
            "memory usage: 23.0+ KB\n"
          ],
          "name": "stdout"
        },
        {
          "output_type": "execute_result",
          "data": {
            "text/html": [
              "<div>\n",
              "<style scoped>\n",
              "    .dataframe tbody tr th:only-of-type {\n",
              "        vertical-align: middle;\n",
              "    }\n",
              "\n",
              "    .dataframe tbody tr th {\n",
              "        vertical-align: top;\n",
              "    }\n",
              "\n",
              "    .dataframe thead th {\n",
              "        text-align: right;\n",
              "    }\n",
              "</style>\n",
              "<table border=\"1\" class=\"dataframe\">\n",
              "  <thead>\n",
              "    <tr style=\"text-align: right;\">\n",
              "      <th></th>\n",
              "      <th>meantemp</th>\n",
              "      <th>humidity</th>\n",
              "      <th>wind_speed</th>\n",
              "      <th>meanpressure</th>\n",
              "    </tr>\n",
              "  </thead>\n",
              "  <tbody>\n",
              "    <tr>\n",
              "      <th>count</th>\n",
              "      <td>1462.000000</td>\n",
              "      <td>1462.000000</td>\n",
              "      <td>1462.000000</td>\n",
              "      <td>1462.000000</td>\n",
              "    </tr>\n",
              "    <tr>\n",
              "      <th>mean</th>\n",
              "      <td>25.495521</td>\n",
              "      <td>60.771702</td>\n",
              "      <td>6.802209</td>\n",
              "      <td>1011.104548</td>\n",
              "    </tr>\n",
              "    <tr>\n",
              "      <th>std</th>\n",
              "      <td>7.348103</td>\n",
              "      <td>16.769652</td>\n",
              "      <td>4.561602</td>\n",
              "      <td>180.231668</td>\n",
              "    </tr>\n",
              "    <tr>\n",
              "      <th>min</th>\n",
              "      <td>6.000000</td>\n",
              "      <td>13.428571</td>\n",
              "      <td>0.000000</td>\n",
              "      <td>-3.041667</td>\n",
              "    </tr>\n",
              "    <tr>\n",
              "      <th>25%</th>\n",
              "      <td>18.857143</td>\n",
              "      <td>50.375000</td>\n",
              "      <td>3.475000</td>\n",
              "      <td>1001.580357</td>\n",
              "    </tr>\n",
              "    <tr>\n",
              "      <th>50%</th>\n",
              "      <td>27.714286</td>\n",
              "      <td>62.625000</td>\n",
              "      <td>6.221667</td>\n",
              "      <td>1008.563492</td>\n",
              "    </tr>\n",
              "    <tr>\n",
              "      <th>75%</th>\n",
              "      <td>31.305804</td>\n",
              "      <td>72.218750</td>\n",
              "      <td>9.238235</td>\n",
              "      <td>1014.944901</td>\n",
              "    </tr>\n",
              "    <tr>\n",
              "      <th>max</th>\n",
              "      <td>38.714286</td>\n",
              "      <td>100.000000</td>\n",
              "      <td>42.220000</td>\n",
              "      <td>7679.333333</td>\n",
              "    </tr>\n",
              "  </tbody>\n",
              "</table>\n",
              "</div>"
            ],
            "text/plain": [
              "          meantemp     humidity   wind_speed  meanpressure\n",
              "count  1462.000000  1462.000000  1462.000000   1462.000000\n",
              "mean     25.495521    60.771702     6.802209   1011.104548\n",
              "std       7.348103    16.769652     4.561602    180.231668\n",
              "min       6.000000    13.428571     0.000000     -3.041667\n",
              "25%      18.857143    50.375000     3.475000   1001.580357\n",
              "50%      27.714286    62.625000     6.221667   1008.563492\n",
              "75%      31.305804    72.218750     9.238235   1014.944901\n",
              "max      38.714286   100.000000    42.220000   7679.333333"
            ]
          },
          "metadata": {
            "tags": []
          },
          "execution_count": 48
        }
      ]
    },
    {
      "cell_type": "code",
      "metadata": {
        "id": "O1oTzqgoAU5z"
      },
      "source": [
        "data_train.isnull().sum() #cek data hilang\n",
        "\n",
        "## mengubah nilai-nilai dari dataframe ke dalam tipe data numpy array\n",
        "dates = data_train['date'].values\n",
        "temp  = data_train['wind_speed'].values"
      ],
      "execution_count": 49,
      "outputs": []
    },
    {
      "cell_type": "markdown",
      "metadata": {
        "id": "DFrCPqwAJib6"
      },
      "source": [
        "# **Split Dataset**\n",
        "\n",
        "membagi dataset menjadi data training (80%) dan data test (20%)."
      ]
    },
    {
      "cell_type": "code",
      "metadata": {
        "id": "4NrwvYexAUFL"
      },
      "source": [
        "from sklearn.model_selection import train_test_split\n",
        "train_dates, test_dates, train_temp, test_temp = train_test_split(dates, temp, test_size=0.2)"
      ],
      "execution_count": 50,
      "outputs": []
    },
    {
      "cell_type": "markdown",
      "metadata": {
        "id": "LNeO19shJpuJ"
      },
      "source": [
        "# **Plot Data**\n",
        "\n",
        "melakuklan plot data training."
      ]
    },
    {
      "cell_type": "code",
      "metadata": {
        "colab": {
          "base_uri": "https://localhost:8080/",
          "height": 341
        },
        "id": "tWK9y54GBWh0",
        "outputId": "f0dddb9e-d519-4166-b519-017a76ea7a31"
      },
      "source": [
        "plt.figure(figsize=(15,5))\n",
        "plt.plot(train_dates, train_temp)\n",
        "plt.title('Temperature average',\n",
        "          fontsize=20);"
      ],
      "execution_count": 51,
      "outputs": [
        {
          "output_type": "display_data",
          "data": {
            "image/png": "[encoded data removed]",
            "text/plain": [
              "<Figure size 1080x360 with 1 Axes>"
            ]
          },
          "metadata": {
            "tags": [],
            "needs_background": "light"
          }
        }
      ]
    },
    {
      "cell_type": "markdown",
      "metadata": {
        "id": "j7cxbTf8J5ry"
      },
      "source": [
        "# **Arsitektur model**\n",
        "* menggunakan LSTM.\n",
        "* menggunakan model sequential.\n",
        "* menggunakan Learning Rate pada Optimizer."
      ]
    },
    {
      "cell_type": "code",
      "metadata": {
        "id": "afNSMwhqDIsj",
        "colab": {
          "base_uri": "https://localhost:8080/"
        },
        "outputId": "2b22a737-e142-4135-8133-4742d228b092"
      },
      "source": [
        "# Fungsi di bawah menerima sebuah series/atribut kita yang telah di konversi menjadi tipe numpy, lalu mengembalikan label dan atribut dari dataset dalam bentuk batch.\n",
        "\n",
        "def windowed_dataset(series, window_size, batch_size, shuffle_buffer):\n",
        "    series = tf.expand_dims(series, axis=-1)\n",
        "    ds = tf.data.Dataset.from_tensor_slices(series)\n",
        "    ds = ds.window(window_size + 1, shift=1, drop_remainder=True)\n",
        "    ds = ds.flat_map(lambda w: w.batch(window_size + 1))\n",
        "    ds = ds.shuffle(shuffle_buffer)\n",
        "    ds = ds.map(lambda w: (w[:-1], w[-1:]))\n",
        "    return ds.batch(batch_size).prefetch(1)\n",
        "\n",
        "\n",
        "train_set = windowed_dataset(train_temp, window_size=100, batch_size=100, shuffle_buffer=1000)\n",
        "\n",
        "model = tf.keras.models.Sequential([\n",
        "  tf.keras.layers.LSTM(64, return_sequences=True),\n",
        "  tf.keras.layers.LSTM(64),\n",
        "  tf.keras.layers.Dense(128, activation=\"relu\"),\n",
        "  tf.keras.layers.Dense(64, activation=\"relu\"),\n",
        "  tf.keras.layers.Dense(1),\n",
        "])\n",
        "\n",
        "# arsitektur model gunakan 2 buah layer LSTM\n",
        "# layer pertama LSTM harus memiliki parameter return_sequences yang bernilai True\n",
        "\n",
        "optimizer = tf.keras.optimizers.SGD(lr=1.0000e-04, momentum=0.9)"
      ],
      "execution_count": 52,
      "outputs": [
        {
          "output_type": "stream",
          "text": [
            "/usr/local/lib/python3.7/dist-packages/tensorflow/python/keras/optimizer_v2/optimizer_v2.py:375: UserWarning: The `lr` argument is deprecated, use `learning_rate` instead.\n",
            "  \"The `lr` argument is deprecated, use `learning_rate` instead.\")\n"
          ],
          "name": "stderr"
        }
      ]
    },
    {
      "cell_type": "markdown",
      "metadata": {
        "id": "AjsCPhiA4wyx"
      },
      "source": [
        "# **Skala data**\n",
        "* 10% skala data training\n",
        "* 10% skala data testing"
      ]
    },
    {
      "cell_type": "code",
      "metadata": {
        "colab": {
          "base_uri": "https://localhost:8080/"
        },
        "id": "UuCnq05q1ZTq",
        "outputId": "ea3c8c1a-0381-400c-9c38-5fb05e8d8a48"
      },
      "source": [
        "(data_train['wind_speed'].max()-data_train['wind_speed'].min())*0.1\n"
      ],
      "execution_count": 53,
      "outputs": [
        {
          "output_type": "execute_result",
          "data": {
            "text/plain": [
              "4.222"
            ]
          },
          "metadata": {
            "tags": []
          },
          "execution_count": 53
        }
      ]
    },
    {
      "cell_type": "code",
      "metadata": {
        "colab": {
          "base_uri": "https://localhost:8080/"
        },
        "id": "Nno9oNqR5C34",
        "outputId": "3e10561b-8b2f-4bb0-c86e-a797fffd1350"
      },
      "source": [
        "(train_temp.max()-train_temp.min())*0.1"
      ],
      "execution_count": 54,
      "outputs": [
        {
          "output_type": "execute_result",
          "data": {
            "text/plain": [
              "4.222"
            ]
          },
          "metadata": {
            "tags": []
          },
          "execution_count": 54
        }
      ]
    },
    {
      "cell_type": "code",
      "metadata": {
        "colab": {
          "base_uri": "https://localhost:8080/"
        },
        "id": "e2GiYwzv5TUY",
        "outputId": "3f71a52a-fcaa-4647-d213-cf6690b2ae05"
      },
      "source": [
        "(test_temp.max()-test_temp.min())*0.1"
      ],
      "execution_count": 55,
      "outputs": [
        {
          "output_type": "execute_result",
          "data": {
            "text/plain": [
              "3.0685714285714285"
            ]
          },
          "metadata": {
            "tags": []
          },
          "execution_count": 55
        }
      ]
    },
    {
      "cell_type": "markdown",
      "metadata": {
        "id": "2PKU9dAwKMvB"
      },
      "source": [
        "# **Metric evaluasi dan fitting model**"
      ]
    },
    {
      "cell_type": "code",
      "metadata": {
        "colab": {
          "base_uri": "https://localhost:8080/"
        },
        "id": "fNWbYwQVxrtO",
        "outputId": "a37524a2-5fd1-474e-b852-f2a20a6c5555"
      },
      "source": [
        "\n",
        "model.compile(loss=tf.keras.losses.Huber(),\n",
        "              optimizer=optimizer,\n",
        "              metrics=[\"mae\"]) # Loss function Huber umum digunakan pada kasus time series.\n",
        "#history = model.fit(temp,epochs=30, batch_size=100, verbose=2)\n",
        "\n",
        "history = model.fit(train_set, epochs=100, batch_size=100, verbose=2)\n",
        "\n"
      ],
      "execution_count": 56,
      "outputs": [
        {
          "output_type": "stream",
          "text": [
            "Epoch 1/100\n",
            "11/11 - 6s - loss: 6.2587 - mae: 6.7489\n",
            "Epoch 2/100\n",
            "11/11 - 2s - loss: 6.1956 - mae: 6.6855\n",
            "Epoch 3/100\n",
            "11/11 - 2s - loss: 6.1128 - mae: 6.6020\n",
            "Epoch 4/100\n",
            "11/11 - 2s - loss: 6.0259 - mae: 6.5137\n",
            "Epoch 5/100\n",
            "11/11 - 2s - loss: 5.9416 - mae: 6.4277\n",
            "Epoch 6/100\n",
            "11/11 - 2s - loss: 5.8588 - mae: 6.3431\n",
            "Epoch 7/100\n",
            "11/11 - 2s - loss: 5.7776 - mae: 6.2606\n",
            "Epoch 8/100\n",
            "11/11 - 2s - loss: 5.6952 - mae: 6.1769\n",
            "Epoch 9/100\n",
            "11/11 - 2s - loss: 5.6112 - mae: 6.0911\n",
            "Epoch 10/100\n",
            "11/11 - 2s - loss: 5.5236 - mae: 6.0013\n",
            "Epoch 11/100\n",
            "11/11 - 2s - loss: 5.4315 - mae: 5.9086\n",
            "Epoch 12/100\n",
            "11/11 - 2s - loss: 5.3340 - mae: 5.8104\n",
            "Epoch 13/100\n",
            "11/11 - 2s - loss: 5.2299 - mae: 5.7057\n",
            "Epoch 14/100\n",
            "11/11 - 2s - loss: 5.1187 - mae: 5.5943\n",
            "Epoch 15/100\n",
            "11/11 - 2s - loss: 5.0022 - mae: 5.4780\n",
            "Epoch 16/100\n",
            "11/11 - 2s - loss: 4.8811 - mae: 5.3564\n",
            "Epoch 17/100\n",
            "11/11 - 2s - loss: 4.7549 - mae: 5.2293\n",
            "Epoch 18/100\n",
            "11/11 - 2s - loss: 4.6247 - mae: 5.0986\n",
            "Epoch 19/100\n",
            "11/11 - 2s - loss: 4.4932 - mae: 4.9661\n",
            "Epoch 20/100\n",
            "11/11 - 2s - loss: 4.3586 - mae: 4.8302\n",
            "Epoch 21/100\n",
            "11/11 - 2s - loss: 4.2223 - mae: 4.6924\n",
            "Epoch 22/100\n",
            "11/11 - 2s - loss: 4.0889 - mae: 4.5589\n",
            "Epoch 23/100\n",
            "11/11 - 2s - loss: 3.9594 - mae: 4.4312\n",
            "Epoch 24/100\n",
            "11/11 - 2s - loss: 3.8305 - mae: 4.3038\n",
            "Epoch 25/100\n",
            "11/11 - 2s - loss: 3.7075 - mae: 4.1827\n",
            "Epoch 26/100\n",
            "11/11 - 2s - loss: 3.5938 - mae: 4.0700\n",
            "Epoch 27/100\n",
            "11/11 - 2s - loss: 3.4894 - mae: 3.9647\n",
            "Epoch 28/100\n",
            "11/11 - 2s - loss: 3.3940 - mae: 3.8668\n",
            "Epoch 29/100\n",
            "11/11 - 2s - loss: 3.3060 - mae: 3.7766\n",
            "Epoch 30/100\n",
            "11/11 - 2s - loss: 3.2372 - mae: 3.7078\n",
            "Epoch 31/100\n",
            "11/11 - 2s - loss: 3.1713 - mae: 3.6404\n",
            "Epoch 32/100\n",
            "11/11 - 2s - loss: 3.1239 - mae: 3.5924\n",
            "Epoch 33/100\n",
            "11/11 - 2s - loss: 3.0840 - mae: 3.5517\n",
            "Epoch 34/100\n",
            "11/11 - 2s - loss: 3.0535 - mae: 3.5215\n",
            "Epoch 35/100\n",
            "11/11 - 2s - loss: 3.0314 - mae: 3.5007\n",
            "Epoch 36/100\n",
            "11/11 - 2s - loss: 3.0155 - mae: 3.4865\n",
            "Epoch 37/100\n",
            "11/11 - 2s - loss: 3.0040 - mae: 3.4748\n",
            "Epoch 38/100\n",
            "11/11 - 2s - loss: 2.9968 - mae: 3.4677\n",
            "Epoch 39/100\n",
            "11/11 - 2s - loss: 2.9919 - mae: 3.4618\n",
            "Epoch 40/100\n",
            "11/11 - 2s - loss: 2.9892 - mae: 3.4584\n",
            "Epoch 41/100\n",
            "11/11 - 2s - loss: 2.9870 - mae: 3.4551\n",
            "Epoch 42/100\n",
            "11/11 - 2s - loss: 2.9853 - mae: 3.4526\n",
            "Epoch 43/100\n",
            "11/11 - 2s - loss: 2.9848 - mae: 3.4514\n",
            "Epoch 44/100\n",
            "11/11 - 2s - loss: 2.9844 - mae: 3.4506\n",
            "Epoch 45/100\n",
            "11/11 - 2s - loss: 2.9840 - mae: 3.4501\n",
            "Epoch 46/100\n",
            "11/11 - 2s - loss: 2.9837 - mae: 3.4497\n",
            "Epoch 47/100\n",
            "11/11 - 2s - loss: 2.9835 - mae: 3.4493\n",
            "Epoch 48/100\n",
            "11/11 - 2s - loss: 2.9834 - mae: 3.4491\n",
            "Epoch 49/100\n",
            "11/11 - 2s - loss: 2.9836 - mae: 3.4492\n",
            "Epoch 50/100\n",
            "11/11 - 2s - loss: 2.9837 - mae: 3.4493\n",
            "Epoch 51/100\n",
            "11/11 - 2s - loss: 2.9832 - mae: 3.4489\n",
            "Epoch 52/100\n",
            "11/11 - 2s - loss: 2.9832 - mae: 3.4488\n",
            "Epoch 53/100\n",
            "11/11 - 2s - loss: 2.9830 - mae: 3.4485\n",
            "Epoch 54/100\n",
            "11/11 - 2s - loss: 2.9829 - mae: 3.4484\n",
            "Epoch 55/100\n",
            "11/11 - 2s - loss: 2.9830 - mae: 3.4485\n",
            "Epoch 56/100\n",
            "11/11 - 2s - loss: 2.9831 - mae: 3.4486\n",
            "Epoch 57/100\n",
            "11/11 - 2s - loss: 2.9829 - mae: 3.4484\n",
            "Epoch 58/100\n",
            "11/11 - 2s - loss: 2.9828 - mae: 3.4483\n",
            "Epoch 59/100\n",
            "11/11 - 2s - loss: 2.9829 - mae: 3.4483\n",
            "Epoch 60/100\n",
            "11/11 - 2s - loss: 2.9828 - mae: 3.4482\n",
            "Epoch 61/100\n",
            "11/11 - 2s - loss: 2.9827 - mae: 3.4482\n",
            "Epoch 62/100\n",
            "11/11 - 2s - loss: 2.9826 - mae: 3.4482\n",
            "Epoch 63/100\n",
            "11/11 - 2s - loss: 2.9827 - mae: 3.4483\n",
            "Epoch 64/100\n",
            "11/11 - 2s - loss: 2.9827 - mae: 3.4483\n",
            "Epoch 65/100\n",
            "11/11 - 2s - loss: 2.9825 - mae: 3.4481\n",
            "Epoch 66/100\n",
            "11/11 - 2s - loss: 2.9825 - mae: 3.4481\n",
            "Epoch 67/100\n",
            "11/11 - 2s - loss: 2.9824 - mae: 3.4480\n",
            "Epoch 68/100\n",
            "11/11 - 2s - loss: 2.9826 - mae: 3.4483\n",
            "Epoch 69/100\n",
            "11/11 - 2s - loss: 2.9824 - mae: 3.4481\n",
            "Epoch 70/100\n",
            "11/11 - 2s - loss: 2.9824 - mae: 3.4481\n",
            "Epoch 71/100\n",
            "11/11 - 2s - loss: 2.9824 - mae: 3.4481\n",
            "Epoch 72/100\n",
            "11/11 - 2s - loss: 2.9824 - mae: 3.4481\n",
            "Epoch 73/100\n",
            "11/11 - 2s - loss: 2.9825 - mae: 3.4480\n",
            "Epoch 74/100\n",
            "11/11 - 2s - loss: 2.9822 - mae: 3.4478\n",
            "Epoch 75/100\n",
            "11/11 - 2s - loss: 2.9822 - mae: 3.4479\n",
            "Epoch 76/100\n",
            "11/11 - 2s - loss: 2.9822 - mae: 3.4479\n",
            "Epoch 77/100\n",
            "11/11 - 2s - loss: 2.9822 - mae: 3.4478\n",
            "Epoch 78/100\n",
            "11/11 - 2s - loss: 2.9821 - mae: 3.4477\n",
            "Epoch 79/100\n",
            "11/11 - 2s - loss: 2.9823 - mae: 3.4479\n",
            "Epoch 80/100\n",
            "11/11 - 2s - loss: 2.9820 - mae: 3.4477\n",
            "Epoch 81/100\n",
            "11/11 - 2s - loss: 2.9821 - mae: 3.4477\n",
            "Epoch 82/100\n",
            "11/11 - 2s - loss: 2.9820 - mae: 3.4477\n",
            "Epoch 83/100\n",
            "11/11 - 2s - loss: 2.9820 - mae: 3.4477\n",
            "Epoch 84/100\n",
            "11/11 - 2s - loss: 2.9820 - mae: 3.4476\n",
            "Epoch 85/100\n",
            "11/11 - 2s - loss: 2.9821 - mae: 3.4478\n",
            "Epoch 86/100\n",
            "11/11 - 2s - loss: 2.9820 - mae: 3.4478\n",
            "Epoch 87/100\n",
            "11/11 - 2s - loss: 2.9819 - mae: 3.4475\n",
            "Epoch 88/100\n",
            "11/11 - 2s - loss: 2.9819 - mae: 3.4476\n",
            "Epoch 89/100\n",
            "11/11 - 2s - loss: 2.9818 - mae: 3.4475\n",
            "Epoch 90/100\n",
            "11/11 - 2s - loss: 2.9818 - mae: 3.4475\n",
            "Epoch 91/100\n",
            "11/11 - 2s - loss: 2.9820 - mae: 3.4477\n",
            "Epoch 92/100\n",
            "11/11 - 2s - loss: 2.9818 - mae: 3.4475\n",
            "Epoch 93/100\n",
            "11/11 - 2s - loss: 2.9818 - mae: 3.4475\n",
            "Epoch 94/100\n",
            "11/11 - 2s - loss: 2.9819 - mae: 3.4476\n",
            "Epoch 95/100\n",
            "11/11 - 2s - loss: 2.9818 - mae: 3.4475\n",
            "Epoch 96/100\n",
            "11/11 - 2s - loss: 2.9818 - mae: 3.4475\n",
            "Epoch 97/100\n",
            "11/11 - 2s - loss: 2.9817 - mae: 3.4473\n",
            "Epoch 98/100\n",
            "11/11 - 2s - loss: 2.9816 - mae: 3.4473\n",
            "Epoch 99/100\n",
            "11/11 - 2s - loss: 2.9816 - mae: 3.4473\n",
            "Epoch 100/100\n",
            "11/11 - 2s - loss: 2.9817 - mae: 3.4474\n"
          ],
          "name": "stdout"
        }
      ]
    },
    {
      "cell_type": "markdown",
      "metadata": {
        "id": "A7Vo7UJ0KUuh"
      },
      "source": [
        "# **Plot mae dan loss**"
      ]
    },
    {
      "cell_type": "code",
      "metadata": {
        "colab": {
          "base_uri": "https://localhost:8080/",
          "height": 573
        },
        "id": "XeHkaSvi_s1z",
        "outputId": "7543d9d6-fe26-43e9-b5eb-68feced10cc0"
      },
      "source": [
        "import matplotlib.pyplot as plt\n",
        "plt.plot(history.history['mae'])\n",
        "plt.title('Akurasi Model')\n",
        "plt.ylabel('mae')\n",
        "plt.xlabel('epoch')\n",
        "plt.show()\n",
        "\n",
        "plt.plot(history.history['loss'])\n",
        "plt.title('Loss Model')\n",
        "plt.ylabel('loss')\n",
        "plt.xlabel('epoch')\n",
        "plt.show()"
      ],
      "execution_count": 57,
      "outputs": [
        {
          "output_type": "display_data",
          "data": {
            "image/png": "[encoded data removed]",
            "text/plain": [
              "<Figure size 432x288 with 1 Axes>"
            ]
          },
          "metadata": {
            "tags": [],
            "needs_background": "light"
          }
        },
        {
          "output_type": "display_data",
          "data": {
            "image/png": "[encoded data removed]",
            "text/plain": [
              "<Figure size 432x288 with 1 Axes>"
            ]
          },
          "metadata": {
            "tags": [],
            "needs_background": "light"
          }
        }
      ]
    },
    {
      "cell_type": "markdown",
      "metadata": {
        "id": "vOR_Sx7yKbWp"
      },
      "source": [
        "# **Hasil evaluasi model pada data test**"
      ]
    },
    {
      "cell_type": "code",
      "metadata": {
        "colab": {
          "base_uri": "https://localhost:8080/"
        },
        "id": "isWkG1L7EMu6",
        "outputId": "a97f3f87-dc78-4440-8baf-b31692985b61"
      },
      "source": [
        "test_set = windowed_dataset(test_temp, window_size=100, batch_size=100, shuffle_buffer=1000)\n",
        "history_test = model.evaluate(test_set)"
      ],
      "execution_count": 58,
      "outputs": [
        {
          "output_type": "stream",
          "text": [
            "2/2 [==============================] - 1s 84ms/step - loss: 2.9864 - mae: 3.4615\n"
          ],
          "name": "stdout"
        }
      ]
    }
  ]
}